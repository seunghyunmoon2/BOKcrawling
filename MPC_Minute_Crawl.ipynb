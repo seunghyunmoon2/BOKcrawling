{
 "cells": [
  {
   "cell_type": "code",
   "execution_count": 3,
   "metadata": {},
   "outputs": [],
   "source": [
    "import pandas as pd\n",
    "import re\n",
    "import requests\n",
    "from bs4 import BeautifulSoup\n",
    "import os\n",
    "\n",
    "from pdfminer.pdfinterp import PDFResourceManager, PDFPageInterpreter\n",
    "from pdfminer.converter import TextConverter\n",
    "from pdfminer.layout import LAParams\n",
    "from pdfminer.pdfpage import PDFPage\n",
    "from io import StringIO"
   ]
  },
  {
   "cell_type": "code",
   "execution_count": 4,
   "metadata": {},
   "outputs": [],
   "source": [
    "base_file_path = './MPC_report/'\n",
    "\n",
    "if not os.path.exists(base_file_path):\n",
    "    os.makedirs(base_file_path)"
   ]
  },
  {
   "cell_type": "code",
   "execution_count": 5,
   "metadata": {},
   "outputs": [],
   "source": [
    "def convert_pdf_to_txt(file):\n",
    "    \n",
    "    rsrcmgr = PDFResourceManager()\n",
    "    \n",
    "    retstr = StringIO()\n",
    "    \n",
    "    laparams = LAParams()\n",
    "    device = TextConverter(rsrcmgr, retstr, laparams = laparams)\n",
    "    fp = open(file, 'rb')\n",
    "    interpreter = PDFPageInterpreter(rsrcmgr, device)\n",
    "    password = ''\n",
    "    maxpages = 0\n",
    "    caching = True\n",
    "    pagenos = set()\n",
    "    \n",
    "    for page in PDFPage.get_pages(fp, pagenos, maxpages=maxpages, password = password, caching=caching, check_extractable = True):\n",
    "        interpreter.process_page(page)\n",
    "    \n",
    "    text = retstr.getvalue()\n",
    "    fp.close()\n",
    "    device.close()\n",
    "    retstr.close()\n",
    "    return text"
   ]
  },
  {
   "cell_type": "code",
   "execution_count": 8,
   "metadata": {},
   "outputs": [
    {
     "output_type": "error",
     "ename": "SyntaxError",
     "evalue": "invalid syntax (<ipython-input-5-e98ba2621b6b>, line 31)",
     "traceback": [
      "\u001b[0;36m  File \u001b[0;32m\"<ipython-input-5-e98ba2621b6b>\"\u001b[0;36m, line \u001b[0;32m31\u001b[0m\n\u001b[0;31m    with open(./MPC/title, 'wb') as f:\u001b[0m\n\u001b[0m              ^\u001b[0m\n\u001b[0;31mSyntaxError\u001b[0m\u001b[0;31m:\u001b[0m invalid syntax\n"
     ]
    }
   ],
   "source": [
    "def bok_crawl():\n",
    "    final_list = []\n",
    "    for i in range(1,23):\n",
    "        \n",
    "        print('현재 {} 페이지를 진행 중입니다'.format(i))\n",
    "\n",
    "        url = 'http://www.bok.or.kr/portal/bbs/B0000245/list.do?menuNo=200761'\n",
    "        params = {\n",
    "        'pageIndex' : i\n",
    "        }\n",
    "        \n",
    "        resp = requests.get(url, params=params)\n",
    "        soup = BeautifulSoup(resp.content)\n",
    "        \n",
    "        ul = soup.select('div.bdLine ul div.row')\n",
    "        \n",
    "        result_dict = {}\n",
    "        result = []\n",
    "        \n",
    "        for x in range(len(ul)):\n",
    "            if x%2 == 0:\n",
    "                link_li = ul[x].find('div', class_='fileGoupBox').find('ul').find_all('li')\n",
    "                for link in link_li:\n",
    "                    if link.find('a').text.strip()[-3:]=='pdf':\n",
    "                        pdf_url = link.find('a').get('href')\n",
    "                        full_url = 'http://www.bok.or.kr' + pdf_url\n",
    "                        title = link.find('a').text.strip()\n",
    "\n",
    "                        resp2 = requests.get(full_url)\n",
    "\n",
<<<<<<< HEAD
    "                        with open(base_file_path+title, 'wb') as f:\n",
=======
    "                        with open('./MPC/'+ title, 'wb') as f:\n",
>>>>>>> 78f54f373d27ef74bc1b3381b73b287f185bea0b
    "                            f.write(resp2.content)\n",
    "\n",
    "                        text = convert_pdf_to_txt(base_file_path+title)\n",
    "                        text = re.sub('\\n|\\t|\\r|\\x0c', '', text)\n",
    "\n",
    "                        result_dict = {\n",
    "                            'title':ul[x].find('span', class_='titlesub').text,\n",
    "                            'date':ul[x].find('span', class_='date').text[3:],\n",
    "                            'contents':text\n",
    "                        }\n",
    "                        \n",
    "                        result.append(result_dict)\n",
    "                        \n",
    "        final_list.extend(result)\n",
    "    \n",
    "    df = pd.DataFrame(final_list)\n",
    "    df.to_csv('mpc_minute.csv', encoding='utf-8-sig')    \n",
    "    \n",
    "    return df\n",
    "\n"
   ]
  },
  {
   "cell_type": "code",
<<<<<<< HEAD
   "execution_count": 9,
   "metadata": {
    "scrolled": true
=======
   "execution_count": 7,
   "metadata": {
    "tags": []
>>>>>>> 78f54f373d27ef74bc1b3381b73b287f185bea0b
   },
   "outputs": [
    {
     "output_type": "stream",
     "name": "stdout",
     "text": "현재 1 페이지를 진행 중입니다\n현재 2 페이지를 진행 중입니다\n현재 3 페이지를 진행 중입니다\n현재 4 페이지를 진행 중입니다\n현재 5 페이지를 진행 중입니다\n현재 6 페이지를 진행 중입니다\n현재 7 페이지를 진행 중입니다\n현재 8 페이지를 진행 중입니다\n현재 9 페이지를 진행 중입니다\n현재 10 페이지를 진행 중입니다\n현재 11 페이지를 진행 중입니다\n현재 12 페이지를 진행 중입니다\n현재 13 페이지를 진행 중입니다\n현재 14 페이지를 진행 중입니다\n현재 15 페이지를 진행 중입니다\n현재 16 페이지를 진행 중입니다\n현재 17 페이지를 진행 중입니다\n현재 18 페이지를 진행 중입니다\n현재 19 페이지를 진행 중입니다\n현재 20 페이지를 진행 중입니다\n현재 21 페이지를 진행 중입니다\n현재 22 페이지를 진행 중입니다\n"
    },
    {
     "output_type": "execute_result",
     "data": {
      "text/plain": "                                    title        date  \\\n0    금융통화위원회 의사록(2020년도 제17차)(2020.7.30.)  2020.08.18   \n1    금융통화위원회 의사록(2020년도 제16차)(2020.7.17.)  2020.08.04   \n2    금융통화위원회 의사록(2020년도 제15차)(2020.7.16.)  2020.08.04   \n3    금융통화위원회 의사록(2020년도 제14차)(2020.6.24.)  2020.07.10   \n4    금융통화위원회 의사록(2020년도 제13차)(2020.6.11.)  2020.06.30   \n..                                    ...         ...   \n215  금융통화위원회 의사록(2009년도 제26차)(2009.12.10)  2010.01.26   \n216  금융통화위원회 의사록(2009년도 제25차)(2009.11.26)  2010.01.12   \n217  금융통화위원회 의사록(2009년도 제24차)(2009.11.12)  2009.12.29   \n218   금융통화위원회 의사록(2009년도 제22차)(2009.10.9)  2009.11.24   \n219   금융통화위원회 의사록(2009년도 제21차)(2009.9.24)  2009.11.10   \n\n                                              contents  \n0    2020년도 제17차금융통화위원회(정기) 의사록한 국 은 행1. 일2. 장자소3. ...  \n1    2020년도 제16차금융통화위원회(임시) 의사록한 국 은 행1. 일2. 장자소3. ...  \n2    2020년도 제15차금융통화위원회(정기) 의사록한 국 은 행1. 일자2020년 7월...  \n3    2020년도 제14차금융통화위원회(정기) 의사록한 국 은 행1. 일자2020년 6월...  \n4    2020년도 제13차금융통화위원회(정기) 의사록한 국 은 행1. 일2. 장자소3. ...  \n..                                                 ...  \n215  금융통화위원회 의사록2009년도 제 차 회의261.일자2009년 월 일 목)1210...  \n216  금융통화위원회 의사록2009년도 제 차 회의251.일자2009년 월 일 목)1126...  \n217  금융통화위원회 의사록2009년도 제 차 회의241.일자2009년 월 일 목)1112...  \n218  금융통화위원회 의사록2009년도 제 차 회의221.일자2009년 월 일 금)109(...  \n219  금융통화위원회 의사록2009년도 제 차 회의211.일자2009년 월 일 목)249(...  \n\n[220 rows x 3 columns]",
      "text/html": "<div>\n<style scoped>\n    .dataframe tbody tr th:only-of-type {\n        vertical-align: middle;\n    }\n\n    .dataframe tbody tr th {\n        vertical-align: top;\n    }\n\n    .dataframe thead th {\n        text-align: right;\n    }\n</style>\n<table border=\"1\" class=\"dataframe\">\n  <thead>\n    <tr style=\"text-align: right;\">\n      <th></th>\n      <th>title</th>\n      <th>date</th>\n      <th>contents</th>\n    </tr>\n  </thead>\n  <tbody>\n    <tr>\n      <th>0</th>\n      <td>금융통화위원회 의사록(2020년도 제17차)(2020.7.30.)</td>\n      <td>2020.08.18</td>\n      <td>2020년도 제17차금융통화위원회(정기) 의사록한 국 은 행1. 일2. 장자소3. ...</td>\n    </tr>\n    <tr>\n      <th>1</th>\n      <td>금융통화위원회 의사록(2020년도 제16차)(2020.7.17.)</td>\n      <td>2020.08.04</td>\n      <td>2020년도 제16차금융통화위원회(임시) 의사록한 국 은 행1. 일2. 장자소3. ...</td>\n    </tr>\n    <tr>\n      <th>2</th>\n      <td>금융통화위원회 의사록(2020년도 제15차)(2020.7.16.)</td>\n      <td>2020.08.04</td>\n      <td>2020년도 제15차금융통화위원회(정기) 의사록한 국 은 행1. 일자2020년 7월...</td>\n    </tr>\n    <tr>\n      <th>3</th>\n      <td>금융통화위원회 의사록(2020년도 제14차)(2020.6.24.)</td>\n      <td>2020.07.10</td>\n      <td>2020년도 제14차금융통화위원회(정기) 의사록한 국 은 행1. 일자2020년 6월...</td>\n    </tr>\n    <tr>\n      <th>4</th>\n      <td>금융통화위원회 의사록(2020년도 제13차)(2020.6.11.)</td>\n      <td>2020.06.30</td>\n      <td>2020년도 제13차금융통화위원회(정기) 의사록한 국 은 행1. 일2. 장자소3. ...</td>\n    </tr>\n    <tr>\n      <th>...</th>\n      <td>...</td>\n      <td>...</td>\n      <td>...</td>\n    </tr>\n    <tr>\n      <th>215</th>\n      <td>금융통화위원회 의사록(2009년도 제26차)(2009.12.10)</td>\n      <td>2010.01.26</td>\n      <td>금융통화위원회 의사록2009년도 제 차 회의261.일자2009년 월 일 목)1210...</td>\n    </tr>\n    <tr>\n      <th>216</th>\n      <td>금융통화위원회 의사록(2009년도 제25차)(2009.11.26)</td>\n      <td>2010.01.12</td>\n      <td>금융통화위원회 의사록2009년도 제 차 회의251.일자2009년 월 일 목)1126...</td>\n    </tr>\n    <tr>\n      <th>217</th>\n      <td>금융통화위원회 의사록(2009년도 제24차)(2009.11.12)</td>\n      <td>2009.12.29</td>\n      <td>금융통화위원회 의사록2009년도 제 차 회의241.일자2009년 월 일 목)1112...</td>\n    </tr>\n    <tr>\n      <th>218</th>\n      <td>금융통화위원회 의사록(2009년도 제22차)(2009.10.9)</td>\n      <td>2009.11.24</td>\n      <td>금융통화위원회 의사록2009년도 제 차 회의221.일자2009년 월 일 금)109(...</td>\n    </tr>\n    <tr>\n      <th>219</th>\n      <td>금융통화위원회 의사록(2009년도 제21차)(2009.9.24)</td>\n      <td>2009.11.10</td>\n      <td>금융통화위원회 의사록2009년도 제 차 회의211.일자2009년 월 일 목)249(...</td>\n    </tr>\n  </tbody>\n</table>\n<p>220 rows × 3 columns</p>\n</div>"
     },
<<<<<<< HEAD
     "execution_count": 9,
=======
>>>>>>> 78f54f373d27ef74bc1b3381b73b287f185bea0b
     "metadata": {},
     "execution_count": 7
    }
   ],
   "source": [
    "bok_crawl()"
   ]
  },
  {
   "cell_type": "code",
   "execution_count": 54,
   "metadata": {},
   "outputs": [],
   "source": [
    "df = pd.read_csv('mpc_minute.csv')"
   ]
  },
  {
   "cell_type": "code",
   "execution_count": 55,
   "metadata": {},
   "outputs": [
    {
     "data": {
      "text/plain": [
       "220"
      ]
     },
     "execution_count": 55,
     "metadata": {},
     "output_type": "execute_result"
    }
   ],
   "source": [
    "len(df)"
   ]
  },
  {
   "cell_type": "code",
   "execution_count": 32,
   "metadata": {},
   "outputs": [
    {
     "data": {
      "text/plain": [
       "'2020년도 제16차금융통화위원회(임시) 의사록한 국 은 행1. 일2. 장자소3. 출석위원2020년 7월 17일(금)금융통화위원회 회의실이 주 열 의 장(총재)고 승 범 위 원윤 면 식 위 원(부총재)임 지 원 위 원조 윤 제 위 원서 영 경 위 원주 상 영 위 원4. 결석위원없 음장 호 현 감사정 규 일 부총재보박 종 석 부총재보양 석 준 외자운용원장이 상 형 통화정책국장홍 경 식 금융결제국장채 병 득 금융통화위원회실장 성 광 진 의사팀장유 상 대 부총재보이 승 헌 부총재보이 환 석 부총재보민 좌 홍 금융안정국장김 현 기 금융시장국장박 영 출 공보관5. 참 여 자6. 회의경과가. 의결안건<의안 제31호 – 회사채･CP 매입기구(SPV)에 대한 대출 한도 및 조건 결정(안)><의안 제32호 – 회사채･CP 매입기구(SPV)에 대한 제1회 대출 실시(안)>(１) 담당 부총재보가 ｢한국은행법｣ 제1조제2항, 제28조제9호 및 제80조에 의거 코로나19에 따른 기업실적 악화 및 신용시장 경색 등으로 일시적으로 자금조달에 어려움을 겪는 기업들에게 유동성을 지원함으로써 기업들의 신용시장 접근성을 제고하고 금융시장 안정을 도모하기 위하여 회사채･CP 매입기구(SPV)에 대한 대출 한도 및 조건을 결정하고, 이에 따라 회사채･CP 매입기구(SPV)에 대한제1회 대출을 실시하고자 한다는 내용의 제안설명을 하였음.- 1 -(２) 위원 토의내용제안설명에 이어 관련부서에서는 본 안건에 대해 여덟 차례(4월 21일, 4월 28일, 5월 11일, 5월 15일, 5월 19일, 6월 12일, 6월 15일, 7월 13일)의 위원협의회에서 논의된 내용을 다음과 같이 보고하였음.위원들은 코로나19의 확산으로 실물경제 부진 및 금융시장 불안 우려가 증대된 가운데 기업실적 악화 등으로 저신용기업의 자금조달 애로가 지속되고 있는상황에서 한국은행이 회사채· CP 시장의 안정을 도모하기 위해 신용시장에 유동성 공급을 지원할 필요가 있다는 의견을 제시하였음. 다만 당행이 발권력을 동원하여 저신용등급을 포함한 회사채· CP 시장을 지원하는 만큼 정부가 국회 동의하에 적극적인 역할을 담당하는 것이 선행되어야 하고 당행의 손실이 최소화될수 있도록 해야 한다는 점을 강조하였음.이에 대해 관련부서에서는 코로나19에 따른 기업실적 악화 및 신용시장 경색등으로 일시적으로 자금조달에 어려움을 겪는 기업들의 신용시장 접근성을 제고하기 위해 당행이 정부와 협력하여 신용시장 지원에 나선다면 한국은행의 금융시장 안정 의지가 시장에 명확히 전달되고 신용시장 안정화 효과도 클 것으로 기대된다고 답변하였음. 또한 당행은 관계기관과 협의하여 회사채· CP 매입기구(SPV)를 10조원 규모로 6개월간 한시적으로 운영하되, 정부가 3차 추경예산을 통해 산업은행에 1조원을 출자하여 SPV 설립을 뒷받침하는 한편, 정부와 산업은행이 출자 및 후순위대출을 통해 SPV 손실을 우선 부담하도록 하여 당행 선순위대출의손실 위험이 최소화되도록 하는 방안을 마련하였다고 덧붙였음.또한 위원들은 당행이 ｢한국은행법｣ 제80조에 따라 회사채· CP 매입기구(SPV)에 직접 대출할 경우 지원 목적, 손실 최소화, 대출금 회수가능성 확충, SPV의업무 및 재산상황 조사· 확인 등과 관련하여 다음 사항을 당행의 대출 조건으로명확히 명기할 필요가 있다는 의견을 제시하였음.첫째, 당행의 SPV에 대한 대출은 특정기업 또는 부실기업 지원이 아닌 금융안정을 위해 회사채·CP 시장에 유동성을 지원하는 데 목적이 있는 만큼 특정기업에 지원이 집중되지 않도록 하고 부실기업에 대한 지원을 배제할 것. 둘째,SPV가 전체 회사채·CP 시장 안정을 위해 우량등급뿐만 아니라 비우량등급 채권도 지원하는 만큼 손실 위험이 최소화되도록 신용등급별 비중 등을 설정할 것.셋째, 당행은 시장 안정시까지 일시적· 한시적으로 지원하고 SPV는 당행 대출금의 조기 상환을 위해 노력할 것. 넷째, 당행이 SPV의 업무 및 재산상황을 조사·확인할 필요가 있다고 판단하는 경우 SPV는 이에 적극 협조할 것.- 2 -이에 따라 관련부서에서는 관계기관과 협의하여 당행의 대출 조건에 대한 위원들의 의견이 다음과 같이 반영되도록 하였음.첫째, SPV의 지원이 특정기업에 집중되지 않도록 동일 기업 및 기업군에 대한 매입한도를 SPV 전체 지원액의 2% 및 3% 이내로 설정하는 한편, 코로나사태이전을 기준으로 이자보상비율이 2년 연속 100% 이하인 부실기업을 지원대상에서 제외하였음. 둘째, SPV 매입자산의 신용등급별 비중이 AA 등급(A1 등급 포함)30% 이상, A 등급(A2 등급 포함) 55% 내외, BBB 등급 이하(A3 등급 포함) 15%이하에서 크게 벗어나지 않도록 SPV를 운용하는 한편, SPV의 전체 자산을 당행대출담보로 징구하기로 하였음. 셋째, SPV를 6개월간 한시적으로 운영한 후 회사채· CP 시장이 안정되면 회사채· CP의 신규 매입을 중단하는 한편, 회사채· CP의상환, 매각 등으로 SPV의 운용규모가 축소될 경우 당행 대출금을 만기일 이전이라도 조기에 상환하기로 하였음. 마지막으로, SPV는 업무 및 재산상황 등에 대하여 당행이 자료의 제출을 요청하거나 조사·확인하는 경우 적극 협조하는 한편,회사채·CP 발행기업의 원리금 연체, 회생절차 개시 등 중대 사항 발생시 당행에즉시 통보하기로 하였음.이어서 본회의에서 논의된 내용은 다음과 같음.일부 위원은 이번 회사채·CP 매입기구(SPV)에 대한 대출(안)은 오랜 논의를 거친 후 결정하게 되는 만큼 정책취지에 맞게 금융시장 경색으로 일시적 자금난을겪는 기업들에게 도움이 되고 금융시장 안정에도 기여하게 되기를 기대한다고 언급하였음. 다만, SPV에 대한 대출은 신용리스크에 대한 노출 정도가 높을 수밖에없다는 점에서 당행이 통상적으로 해오던 대출과는 상당한 차이가 있으므로 대출약정 준수 여부를 살피는 것 외에도 포트폴리오 전반에 대한 리스크 현황을 면밀히 파악해 나가야 한다는 입장을 밝혔음. 또한 저리의 자금이 투입되는 만큼SPV의 투자방향이 정책취지와 부합하는지에 대한 지속적인 점검도 필요하다고덧붙였음. 아울러 당행이 투자관리위원회와의 긴밀한 소통을 통해 동 위원회가SPV 운영에서 의미있는 역할을 할 수 있도록 노력해야 한다고 강조하였음. 이와함께 향후 2회차 이후의 대출을 결정할 때 대출약정 준수 여부, SPV의 투자방향,포트폴리오에 내재된 잠재리스크 현황 등을 면밀히 점검해줄 것을 당부하였음.다른 일부 위원은 당행은 정부와의 협의를 통해 저신용등급을 포함한 회사채·CP 매입기구(SPV)를 설립하기로 하고 지난 5월 20일 기재부·금융위와 공동으로 동 매입기구의 설립방안 및 추진 일정을 발표하였는데, 이는 코로나19의 영향으로 극심한 업황 부진이 예상됨에 따라 취약업종 기업이 발행하는 저신용등급- 3 -회사채·CP를 중심으로 신용스프레드(spread)가 크게 확대되는 등 신용시장에서의자금조달 여건이 악화되어 이를 완화해줄 필요가 있었던 데다 주요국 중앙은행도코로나19에 대응하여 회사채·CP 시장에 적극 개입한 사례를 감안한 것이었다고언급하였음. 다만 미 연준 등의 사례에서 보듯이 중앙은행의 신용시장 개입은 기업의 자금조달여건 개선과 같은 긍정적 효과뿐 아니라 부실기업 지원에 따른 도덕적 해이, 특정 기업에 대한 특혜 가능성, 시장 왜곡과 이에 따른 자원의 비효율적 배분, 중앙은행의 손실 위험 등과 같은 문제점도 초래할 수 있다고 지적하였음. 당행은 이러한 문제 인식 하에 정부와의 협의 과정에서 회사채·CP 매입기구가 부실기업 또는 특정기업 지원이 아닌 전체 회사채·CP 시장의 안정, 그리고 궁극적으로는 당행의 책무인 금융안정을 목적으로 운용되어야 한다는 점을 강조하였다고 설명하였음. 또한 이러한 관점에서 그동안 여러 차례 금통위 위원협의회에서 심도 있는 토론을 거쳤으며, 그 결과 이자보상비율 2년 연속 100% 이하의부실기업 배제, 동일기업 및 기업군 매입한도 제한, 신용등급별 포트폴리오 비중설정, 당행의 손실위험 최소화 등의 장치를 마련하는 한편, SPV가 ｢한국은행법｣80조에 근거하여 예외적이고 긴급한 상황에서 설립되는 만큼 6개월간 한시적으로운영하기로 하였다고 덧붙였음.최근 국내외 금융시장에서는 완화적 통화정책에 힘입어 위험자산에 대한 투자심리가 개선되면서 회사채·CP 시장도 상당부분 안정된 것으로 보인다고 평가하였음. 다만 저신용등급의 경우 아직 신용스프레드가 높은 수준을 유지하는 등 자금조달여건의 개선이 지연되고 있다고 언급하면서, 이번 회사채·CP 매입기구의설립과 운영에 힘입어 저신용등급의 신용스프레드가 적정수준으로 낮아지고 시장의 자원배분 기능이 정상적으로 작동하여 당행의 신용시장 개입이 조기에 또는최소한 예정된 대로 종료되기를 기대한다고 첨언하였음.( 3 ) 심의결과원안대로 가결의결사항회사채･CP 매입기구(SPV)에 대한 대출 한도 및 조건을 붙임과 같이 결정하고, 동 매입기구에 대한 제1회 대출을 붙임과 같이 의결한다.<붙임>회사채･CP 매입기구(SPV)에 대한 대출한도 및 조건 결정(안)(생략)회사채･CP 매입기구(SPV)에 대한 제1회 대출 실시(안)(생략)- 4 -<의안 제33호 – ｢한국은행의 당좌예금 등 거래대상기관에 관한 규정｣ 개정(안)>(１) 담당 부총재보가 ｢한국은행법｣ 제79조 및 제80조에 의거 회사채･CP 매입기구(SPV)가 대출관련 업무를 원활히 수행할 수 있도록 금융통화위원회가 정하는영리기업을 당좌예금 거래대상기관으로 포함하고자 한다는 내용의 제안설명을 하였음.(２) 심의결과원안대로 가결의결사항｢한국은행의 당좌예금 등 거래대상기관에 관한 규정｣을 붙임과 같이 개정한다.<붙임> ｢한국은행의 당좌예금 등 거래대상기관에 관한 규정｣ 개정(안)(생략)- 5 -'"
      ]
     },
     "execution_count": 32,
     "metadata": {},
     "output_type": "execute_result"
    }
   ],
   "source": [
    "a['contents'][1]"
   ]
  },
  {
   "cell_type": "code",
   "execution_count": 10,
   "metadata": {},
   "outputs": [],
   "source": [
    "def tidy_sentences(section):\n",
    "    sentence_enders = re.compile(r'((?<=[함음됨임봄짐움])(\\s*\\n|\\.|;)|(?<=다)\\.)\\s*')\n",
    "    splits = list((m.start(), m.end()) for m in re.finditer(sentence_enders, section))\n",
    "    starts = [0] + [i[1] for i in splits]\n",
    "    ends = [i[0] for i in splits]\n",
    "    sentences = [section[start:end] for start, end in zip(starts[:-1], ends)]\n",
    "    for i, s in enumerate(sentences):\n",
    "        sentences[i] = (s.replace('\\n', ' ').replace(' ', ' ')) + '.'\n",
    "\n",
    "    text = '\\n'.join(sentences) if len(sentences) > 0 else ''\n",
    "    return sentences, text"
   ]
  },
  {
   "cell_type": "code",
   "execution_count": 53,
   "metadata": {},
   "outputs": [],
   "source": [
    "import re \n",
    "\n",
    "def preprocess_minutes(minutes):\n",
    "\n",
    "    pos = re.search('(.?국내외\\s?경제\\s?동향.?과 관련하여,?|\\(가\\).+경제전망.*|\\(가\\) 국내외 경제동향 및 평가)\\n?\\s*일부 위원은', minutes, re.MULTILINE)\n",
    "    s1 = pos.start() if pos else -1\n",
    "    pos = re.search('(.?외환.?국제금융\\s?동향.?과 관련하여.*|\\(나\\) 외환.국제금융\\s?(및 금융시장)?\\s?동향)\\n?\\s*(일부 위원은|대부분의 위원들은)', minutes,re.MULTILINE)\n",
    "    s2 = pos.start() if pos else -1\n",
    "    pos = re.search('(.?금융시장\\s?동향.?과 관련하여,?|\\(다\\) 금융시장\\s?동향)\\n?\\s*일부 위원은', minutes, re.MULTILINE)\n",
    "    s3 = pos.start() if pos else -1\n",
    "    pos = re.search('((\\((다|라)\\) )?.?통화정책\\s?방향.?에 관한 토론,?|이상과 같은 의견\\s?교환을 바탕으로.*통화정책\\s?방향.*에.*토론.*)\\n?', minutes,re.MULTILINE)\n",
    "    s4 = pos.start() if pos else -1\n",
    "    pos = re.search('(\\(4\\) 정부측 열석자 발언.*)\\n?', minutes, re.MULTILINE)\n",
    "    s5 = pos.start() if pos else -1\n",
    "    pos = re.search('(\\(.*\\) 한국은행 기준금리 결정에 관한 위원별 의견\\s?개진|이상과 같은 토론에 이어 .* 관한 위원별 의견개진이 있었음.*)\\n?', minutes,re.MULTILINE)\n",
    "    s6 = pos.start() if pos else -1\n",
    "    positer = re.finditer('(\\(\\s?.*\\s?\\) ()(심의결과|토의결론))\\n?', minutes, re.MULTILINE)\n",
    "    s7 = [pos.start() for pos in positer if pos.start() > s6]\n",
    "    s7 = s7[0] if s7 else -1\n",
    "\n",
    "    # 국내외 경제동향\n",
    "    bos = s1\n",
    "    eos = s2\n",
    "    section = minutes[bos:eos] if bos >= 0 or eos >= 0 else ''\n",
    "    pos = re.search('(일부|대부분의) 위원들?은', section, re.MULTILINE)\n",
    "    bos = pos.start() if pos else -1\n",
    "    section = section[bos:] if bos >= 0 else section\n",
    "    section1, section1_txt = tidy_sentences(section)\n",
    "\n",
    "    # 외환․국제금융 동향\n",
    "    bos = s2\n",
    "    eos = s3 if s3 >= 0 else s4\n",
    "    section = minutes[bos:eos] if bos >= 0 or eos >= 0 else ''\n",
    "    pos = re.search('(일부|대부분의) 위원들?은', section, re.MULTILINE)\n",
    "    bos = pos.start() if pos else -1\n",
    "    section = section[bos:] if bos >= 0 else section\n",
    "    section2, section2_txt = tidy_sentences(section)\n",
    "    #print(section)\n",
    "\n",
    "    # 금융시장 동향\n",
    "    bos = s3\n",
    "    eos = s4\n",
    "    section = minutes[bos:eos] if bos >= 0 or eos >= 0 else ''\n",
    "    pos = re.search('(일부|대부분의) 위원들?은', section, re.MULTILINE)\n",
    "    bos = pos.start() if pos else -1\n",
    "    section = section[bos:] if bos >= 0 else section\n",
    "    section3, section3_txt = tidy_sentences(section)\n",
    "\n",
    "    # 통화정책방향\n",
    "    bos = s4\n",
    "    eos = s5 if s5 >= 0 else s6 if s6 >= 0 else s7\n",
    "    section = minutes[bos:eos] if bos >= 0 or eos >= 0 else ''\n",
    "    pos = re.search('(일부|대부분의) 위원들?은', section, re.MULTILINE)\n",
    "    bos = pos.start() if pos else -1\n",
    "    section = section[bos:] if bos >= 0 else section\n",
    "    section4, section4_txt = tidy_sentences(section)\n",
    "\n",
    "    # 위원별 의견 개진\n",
    "    bos = s6\n",
    "    eos = s7\n",
    "    section = minutes[bos:eos] if bos >= 0 or eos >= 0 else ''\n",
    "    pos = re.search('(일부|대부분의) 위원들?은', section, re.MULTILINE)\n",
    "    bos = pos.start() if pos else -1\n",
    "    section = section[bos:] if bos >= 0 else section\n",
    "    section5, section5_txt = tidy_sentences(section)\n",
    "\n",
    "    # 정부측 열석자 발언\n",
    "    bos = s5\n",
    "    eos = s6\n",
    "    section = minutes[bos:eos] if bos >= 0 or eos >= 0 else ''\n",
    "    pos = re.search('정부측 열석자 발언', section, re.MULTILINE)\n",
    "    bos = pos.end() + 1 if pos else -1\n",
    "    section = section[bos:] if bos >= 0 else section\n",
    "    section6, section6_txt = tidy_sentences(section)\n",
    "\n",
    "    sections = ['Economic Situation', 'Foreign Currency', 'Financial Markets',\n",
    "                'Monetary Policy', 'Participants’ Views', 'Government’s View']\n",
    "    section_texts = (section1, section2, section3, section4, section5, section6)\n",
    "\n",
    "    return sections, section_texts"
   ]
  },
  {
   "cell_type": "code",
   "execution_count": 59,
   "metadata": {},
   "outputs": [],
   "source": [
    "final_list = []\n",
    "for i in range(len(df)):\n",
    "    final_list.append(preprocess_minutes(df['contents'][i])) "
   ]
  },
  {
   "cell_type": "code",
   "execution_count": 64,
   "metadata": {},
   "outputs": [],
   "source": [
    "df_final = pd.DataFrame(final_list)"
   ]
  },
  {
   "cell_type": "code",
   "execution_count": 66,
   "metadata": {},
   "outputs": [],
   "source": [
    "df_final.to_csv('mpc_minute_section.csv', encoding='utf-8-sig')    "
   ]
  },
  {
   "cell_type": "code",
   "execution_count": null,
   "metadata": {},
   "outputs": [],
   "source": []
  }
 ],
 "metadata": {
  "kernelspec": {
   "display_name": "Python 3",
   "language": "python",
   "name": "python3"
  },
  "language_info": {
   "codemirror_mode": {
    "name": "ipython",
    "version": 3
   },
   "file_extension": ".py",
   "mimetype": "text/x-python",
   "name": "python",
   "nbconvert_exporter": "python",
   "pygments_lexer": "ipython3",
   "version": "3.7.7-final"
  }
 },
 "nbformat": 4,
 "nbformat_minor": 4
}